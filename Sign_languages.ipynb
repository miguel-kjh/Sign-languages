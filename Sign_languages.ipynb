{
  "nbformat": 4,
  "nbformat_minor": 0,
  "metadata": {
    "colab": {
      "name": "Sign languages.ipynb",
      "version": "0.3.2",
      "provenance": [],
      "collapsed_sections": [],
      "include_colab_link": true
    },
    "kernelspec": {
      "name": "python3",
      "display_name": "Python 3"
    },
    "accelerator": "GPU"
  },
  "cells": [
    {
      "cell_type": "markdown",
      "metadata": {
        "id": "view-in-github",
        "colab_type": "text"
      },
      "source": [
        "<a href=\"https://colab.research.google.com/github/miguel-kjh/Sign-languages/blob/master/Sign_languages.ipynb\" target=\"_parent\"><img src=\"https://colab.research.google.com/assets/colab-badge.svg\" alt=\"Open In Colab\"/></a>"
      ]
    },
    {
      "cell_type": "code",
      "metadata": {
        "id": "gmpJj8XnVf4O",
        "colab_type": "code",
        "outputId": "8ada0bfc-2cce-436a-f5dd-8d5f7f1212a0",
        "colab": {
          "base_uri": "https://localhost:8080/",
          "height": 124
        }
      },
      "source": [
        "from google.colab import drive\n",
        "drive.mount('/content/drive')"
      ],
      "execution_count": 0,
      "outputs": [
        {
          "output_type": "stream",
          "text": [
            "Go to this URL in a browser: https://accounts.google.com/o/oauth2/auth?client_id=947318989803-6bn6qk8qdgf4n4g3pfee6491hc0brc4i.apps.googleusercontent.com&redirect_uri=urn%3Aietf%3Awg%3Aoauth%3A2.0%3Aoob&scope=email%20https%3A%2F%2Fwww.googleapis.com%2Fauth%2Fdocs.test%20https%3A%2F%2Fwww.googleapis.com%2Fauth%2Fdrive%20https%3A%2F%2Fwww.googleapis.com%2Fauth%2Fdrive.photos.readonly%20https%3A%2F%2Fwww.googleapis.com%2Fauth%2Fpeopleapi.readonly&response_type=code\n",
            "\n",
            "Enter your authorization code:\n",
            "··········\n",
            "Mounted at /content/drive\n"
          ],
          "name": "stdout"
        }
      ]
    },
    {
      "cell_type": "code",
      "metadata": {
        "id": "TFSklL4v4ks_",
        "colab_type": "code",
        "outputId": "58f951da-2518-4225-e9ac-49fcd5751230",
        "colab": {
          "base_uri": "https://localhost:8080/",
          "height": 304
        }
      },
      "source": [
        "!ls \"/content/drive/My Drive/Colab Notebooks/Sign-Language\"\n",
        "\n",
        "from matplotlib.pyplot import imshow\n",
        "import numpy as np\n",
        "from PIL import Image\n",
        "\n",
        "%matplotlib inline\n",
        "pil_im = Image.open('/content/drive/My Drive/Colab Notebooks/Sign-Language/4/IMG_1132.JPG', 'r')\n",
        "imshow(np.asarray(pil_im))"
      ],
      "execution_count": 0,
      "outputs": [
        {
          "output_type": "stream",
          "text": [
            "0  1  2  3  4  5  6  7\t8  9  _DS_Store\n"
          ],
          "name": "stdout"
        },
        {
          "output_type": "execute_result",
          "data": {
            "text/plain": [
              "<matplotlib.image.AxesImage at 0x7f482f81a908>"
            ]
          },
          "metadata": {
            "tags": []
          },
          "execution_count": 2
        },
        {
          "output_type": "display_data",
          "data": {
            "image/png": "[encoded data removed]",
            "text/plain": [
              "<Figure size 432x288 with 1 Axes>"
            ]
          },
          "metadata": {
            "tags": []
          }
        }
      ]
    },
    {
      "cell_type": "code",
      "metadata": {
        "id": "9JQ-N_T-f3cF",
        "colab_type": "code",
        "colab": {}
      },
      "source": [
        "from keras.models import *\n",
        "from keras.layers import *\n",
        "from keras.applications import VGG16\n",
        "from keras import layers\n",
        "from keras import optimizers\n",
        "from keras import utils\n",
        "from keras.preprocessing.image import ImageDataGenerator\n",
        "import matplotlib.pyplot as plt\n",
        "import numpy as np\n",
        "from PIL import Image"
      ],
      "execution_count": 0,
      "outputs": []
    },
    {
      "cell_type": "code",
      "metadata": {
        "id": "Ei84BZTpf0JU",
        "colab_type": "code",
        "outputId": "3c20c954-bc04-416c-e3bd-14bff56805bc",
        "colab": {
          "base_uri": "https://localhost:8080/",
          "height": 52
        }
      },
      "source": [
        "# DATA SOURCE --------------------------------------------------\n",
        "\n",
        "batch_size = 50\n",
        "image_size = 150\n",
        "\n",
        "data_dir = '/content/drive/My Drive/Colab Notebooks/Sign-Language'\n",
        "\n",
        "datagen = ImageDataGenerator(\n",
        "        rescale=1./255,\n",
        "        shear_range=0.2,\n",
        "        zoom_range=0.2,\n",
        "        horizontal_flip=True,\n",
        "        validation_split=0.25)\n",
        "\n",
        "train_generator = datagen.flow_from_directory(\n",
        "        data_dir,\n",
        "        target_size=(image_size, image_size),\n",
        "        batch_size=batch_size,\n",
        "        class_mode='categorical',\n",
        "        subset=\"training\")\n",
        "\n",
        "validation_generator = datagen.flow_from_directory(\n",
        "        data_dir,\n",
        "        target_size=(image_size, image_size),\n",
        "        batch_size=batch_size,\n",
        "        class_mode='categorical',\n",
        "        subset=\"validation\")"
      ],
      "execution_count": 0,
      "outputs": [
        {
          "output_type": "stream",
          "text": [
            "Found 1551 images belonging to 10 classes.\n",
            "Found 511 images belonging to 10 classes.\n"
          ],
          "name": "stdout"
        }
      ]
    },
    {
      "cell_type": "markdown",
      "metadata": {
        "id": "aBqOQDO86EPR",
        "colab_type": "text"
      },
      "source": [
        "# **PRIMER MODELO**"
      ]
    },
    {
      "cell_type": "code",
      "metadata": {
        "id": "sIw7tAiKi7eG",
        "colab_type": "code",
        "outputId": "38339307-daa5-43d9-de4c-5a92b53b665e",
        "colab": {
          "base_uri": "https://localhost:8080/",
          "height": 451
        }
      },
      "source": [
        "# MODEL --------------------------------------------------\n",
        "\n",
        "model = Sequential()\n",
        "model.add(Conv2D(16, kernel_size=(3, 3),\n",
        "                 activation='relu',\n",
        "                 input_shape=(150, 150, 3)))\n",
        "model.add(Conv2D(32, (3, 3), activation='relu'))\n",
        "model.add(MaxPooling2D(pool_size=(2, 2)))\n",
        "\n",
        "model.add(Conv2D(32, (3, 3), activation='relu'))\n",
        "model.add(MaxPooling2D(pool_size=(2, 2)))\n",
        "\n",
        "model.add(Flatten())\n",
        "model.add(Dense(256, activation='relu'))\n",
        "model.add(Dropout(0.25))\n",
        "model.add(Dense(10, activation='softmax'))\n",
        "model.summary()\n",
        "\n",
        "model.compile(loss=keras.losses.categorical_crossentropy,\n",
        "              optimizer=\"adam\",\n",
        "              metrics=['accuracy'])\n"
      ],
      "execution_count": 0,
      "outputs": [
        {
          "output_type": "stream",
          "text": [
            "_________________________________________________________________\n",
            "Layer (type)                 Output Shape              Param #   \n",
            "=================================================================\n",
            "conv2d_26 (Conv2D)           (None, 148, 148, 16)      448       \n",
            "_________________________________________________________________\n",
            "conv2d_27 (Conv2D)           (None, 146, 146, 32)      4640      \n",
            "_________________________________________________________________\n",
            "max_pooling2d_18 (MaxPooling (None, 73, 73, 32)        0         \n",
            "_________________________________________________________________\n",
            "conv2d_28 (Conv2D)           (None, 71, 71, 32)        9248      \n",
            "_________________________________________________________________\n",
            "max_pooling2d_19 (MaxPooling (None, 35, 35, 32)        0         \n",
            "_________________________________________________________________\n",
            "flatten_10 (Flatten)         (None, 39200)             0         \n",
            "_________________________________________________________________\n",
            "dense_19 (Dense)             (None, 256)               10035456  \n",
            "_________________________________________________________________\n",
            "dropout_14 (Dropout)         (None, 256)               0         \n",
            "_________________________________________________________________\n",
            "dense_20 (Dense)             (None, 10)                2570      \n",
            "=================================================================\n",
            "Total params: 10,052,362\n",
            "Trainable params: 10,052,362\n",
            "Non-trainable params: 0\n",
            "_________________________________________________________________\n"
          ],
          "name": "stdout"
        }
      ]
    },
    {
      "cell_type": "code",
      "metadata": {
        "id": "Vvok96Bs6CeC",
        "colab_type": "code",
        "outputId": "33a45007-3c44-4491-c694-2ea2c0d4bfff",
        "colab": {
          "base_uri": "https://localhost:8080/",
          "height": 3490
        }
      },
      "source": [
        "# TRAINING --------------------------------------------------\n",
        "\n",
        "epochs = 100\n",
        "\n",
        "history = model.fit_generator(\n",
        "        train_generator,\n",
        "        steps_per_epoch=train_generator.samples // batch_size,\n",
        "        epochs=epochs, \n",
        "        validation_data=validation_generator,\n",
        "        validation_steps=validation_generator.samples // batch_size,\n",
        ")"
      ],
      "execution_count": 0,
      "outputs": [
        {
          "output_type": "stream",
          "text": [
            "Epoch 1/100\n",
            "31/31 [==============================] - 14s 462ms/step - loss: 2.9612 - acc: 0.1632 - val_loss: 2.1677 - val_acc: 0.1980\n",
            "Epoch 2/100\n",
            "31/31 [==============================] - 13s 413ms/step - loss: 1.8478 - acc: 0.3916 - val_loss: 1.7999 - val_acc: 0.3688\n",
            "Epoch 3/100\n",
            "31/31 [==============================] - 14s 440ms/step - loss: 1.2398 - acc: 0.6035 - val_loss: 1.6409 - val_acc: 0.4664\n",
            "Epoch 4/100\n",
            "31/31 [==============================] - 13s 431ms/step - loss: 1.1458 - acc: 0.6562 - val_loss: 1.6010 - val_acc: 0.4816\n",
            "Epoch 5/100\n",
            "31/31 [==============================] - 13s 408ms/step - loss: 0.8628 - acc: 0.7397 - val_loss: 1.5369 - val_acc: 0.5141\n",
            "Epoch 6/100\n",
            "31/31 [==============================] - 13s 405ms/step - loss: 0.6722 - acc: 0.7901 - val_loss: 1.3337 - val_acc: 0.5813\n",
            "Epoch 7/100\n",
            "31/31 [==============================] - 12s 402ms/step - loss: 0.6247 - acc: 0.8043 - val_loss: 1.5849 - val_acc: 0.5510\n",
            "Epoch 8/100\n",
            "31/31 [==============================] - 13s 409ms/step - loss: 0.5260 - acc: 0.8398 - val_loss: 1.2486 - val_acc: 0.6139\n",
            "Epoch 9/100\n",
            "31/31 [==============================] - 13s 413ms/step - loss: 0.7454 - acc: 0.7685 - val_loss: 1.6877 - val_acc: 0.5401\n",
            "Epoch 10/100\n",
            "31/31 [==============================] - 14s 451ms/step - loss: 0.4559 - acc: 0.8528 - val_loss: 1.8025 - val_acc: 0.5944\n",
            "Epoch 11/100\n",
            "31/31 [==============================] - 13s 404ms/step - loss: 0.3776 - acc: 0.8863 - val_loss: 1.2850 - val_acc: 0.6486\n",
            "Epoch 12/100\n",
            "31/31 [==============================] - 13s 408ms/step - loss: 0.3872 - acc: 0.8857 - val_loss: 1.4452 - val_acc: 0.6280\n",
            "Epoch 13/100\n",
            "31/31 [==============================] - 13s 409ms/step - loss: 0.3169 - acc: 0.8999 - val_loss: 1.4061 - val_acc: 0.6226\n",
            "Epoch 14/100\n",
            "31/31 [==============================] - 13s 415ms/step - loss: 0.3849 - acc: 0.8719 - val_loss: 1.4153 - val_acc: 0.6443\n",
            "Epoch 15/100\n",
            "31/31 [==============================] - 12s 400ms/step - loss: 0.3804 - acc: 0.8812 - val_loss: 1.5480 - val_acc: 0.5857\n",
            "Epoch 16/100\n",
            "31/31 [==============================] - 14s 458ms/step - loss: 0.2954 - acc: 0.9070 - val_loss: 1.7045 - val_acc: 0.6421\n",
            "Epoch 17/100\n",
            "31/31 [==============================] - 13s 406ms/step - loss: 0.2267 - acc: 0.9206 - val_loss: 1.5991 - val_acc: 0.6529\n",
            "Epoch 18/100\n",
            "31/31 [==============================] - 12s 395ms/step - loss: 0.1920 - acc: 0.9406 - val_loss: 1.5590 - val_acc: 0.6876\n",
            "Epoch 19/100\n",
            "31/31 [==============================] - 13s 408ms/step - loss: 0.1908 - acc: 0.9341 - val_loss: 1.9254 - val_acc: 0.6182\n",
            "Epoch 20/100\n",
            "31/31 [==============================] - 13s 409ms/step - loss: 0.2579 - acc: 0.8977 - val_loss: 1.4313 - val_acc: 0.5813\n",
            "Epoch 21/100\n",
            "31/31 [==============================] - 13s 415ms/step - loss: 0.2532 - acc: 0.9167 - val_loss: 1.5840 - val_acc: 0.6529\n",
            "Epoch 22/100\n",
            "31/31 [==============================] - 14s 448ms/step - loss: 0.1750 - acc: 0.9425 - val_loss: 1.7914 - val_acc: 0.6377\n",
            "Epoch 23/100\n",
            "31/31 [==============================] - 13s 409ms/step - loss: 0.5309 - acc: 0.8906 - val_loss: 1.3325 - val_acc: 0.5380\n",
            "Epoch 24/100\n",
            "31/31 [==============================] - 12s 403ms/step - loss: 0.3612 - acc: 0.8779 - val_loss: 1.4119 - val_acc: 0.6725\n",
            "Epoch 25/100\n",
            "31/31 [==============================] - 13s 405ms/step - loss: 0.2018 - acc: 0.9386 - val_loss: 1.5352 - val_acc: 0.6399\n",
            "Epoch 26/100\n",
            "31/31 [==============================] - 13s 408ms/step - loss: 0.1722 - acc: 0.9380 - val_loss: 1.5554 - val_acc: 0.6594\n",
            "Epoch 27/100\n",
            "31/31 [==============================] - 13s 429ms/step - loss: 0.1210 - acc: 0.9658 - val_loss: 1.3916 - val_acc: 0.6920\n",
            "Epoch 28/100\n",
            "31/31 [==============================] - 15s 481ms/step - loss: 0.1290 - acc: 0.9600 - val_loss: 1.6438 - val_acc: 0.6659\n",
            "Epoch 29/100\n",
            "31/31 [==============================] - 13s 409ms/step - loss: 0.1091 - acc: 0.9593 - val_loss: 1.5318 - val_acc: 0.7028\n",
            "Epoch 30/100\n",
            "31/31 [==============================] - 13s 406ms/step - loss: 0.3316 - acc: 0.9280 - val_loss: 1.5081 - val_acc: 0.5098\n",
            "Epoch 31/100\n",
            "31/31 [==============================] - 13s 407ms/step - loss: 0.5802 - acc: 0.8056 - val_loss: 1.6713 - val_acc: 0.6204\n",
            "Epoch 32/100\n",
            "31/31 [==============================] - 13s 408ms/step - loss: 0.1682 - acc: 0.9445 - val_loss: 1.4243 - val_acc: 0.6941\n",
            "Epoch 33/100\n",
            "31/31 [==============================] - 13s 427ms/step - loss: 0.1194 - acc: 0.9619 - val_loss: 1.5650 - val_acc: 0.6573\n",
            "Epoch 34/100\n",
            "31/31 [==============================] - 14s 447ms/step - loss: 0.0950 - acc: 0.9677 - val_loss: 1.3008 - val_acc: 0.6840\n",
            "Epoch 35/100\n",
            "31/31 [==============================] - 14s 436ms/step - loss: 0.1075 - acc: 0.9716 - val_loss: 1.6873 - val_acc: 0.6703\n",
            "Epoch 36/100\n",
            "31/31 [==============================] - 13s 408ms/step - loss: 0.0852 - acc: 0.9703 - val_loss: 1.4925 - val_acc: 0.6768\n",
            "Epoch 37/100\n",
            "31/31 [==============================] - 12s 402ms/step - loss: 0.0739 - acc: 0.9735 - val_loss: 1.4625 - val_acc: 0.7158\n",
            "Epoch 38/100\n",
            "31/31 [==============================] - 13s 412ms/step - loss: 0.0658 - acc: 0.9768 - val_loss: 1.8054 - val_acc: 0.6855\n",
            "Epoch 39/100\n",
            "31/31 [==============================] - 13s 404ms/step - loss: 0.0708 - acc: 0.9768 - val_loss: 1.6087 - val_acc: 0.6963\n",
            "Epoch 40/100\n",
            "31/31 [==============================] - 13s 422ms/step - loss: 0.0677 - acc: 0.9735 - val_loss: 1.6301 - val_acc: 0.7202\n",
            "Epoch 41/100\n",
            "31/31 [==============================] - 14s 441ms/step - loss: 0.1182 - acc: 0.9625 - val_loss: 1.5775 - val_acc: 0.6659\n",
            "Epoch 42/100\n",
            "31/31 [==============================] - 13s 408ms/step - loss: 0.0793 - acc: 0.9729 - val_loss: 1.4252 - val_acc: 0.7267\n",
            "Epoch 43/100\n",
            "31/31 [==============================] - 13s 403ms/step - loss: 0.0582 - acc: 0.9819 - val_loss: 1.5022 - val_acc: 0.7093\n",
            "Epoch 44/100\n",
            "31/31 [==============================] - 13s 421ms/step - loss: 0.0505 - acc: 0.9839 - val_loss: 1.7139 - val_acc: 0.6920\n",
            "Epoch 45/100\n",
            "31/31 [==============================] - 13s 409ms/step - loss: 0.0528 - acc: 0.9813 - val_loss: 2.2040 - val_acc: 0.6380\n",
            "Epoch 46/100\n",
            "31/31 [==============================] - 13s 412ms/step - loss: 0.0562 - acc: 0.9793 - val_loss: 1.5139 - val_acc: 0.7115\n",
            "Epoch 47/100\n",
            "31/31 [==============================] - 14s 448ms/step - loss: 0.0411 - acc: 0.9858 - val_loss: 1.9242 - val_acc: 0.6898\n",
            "Epoch 48/100\n",
            "31/31 [==============================] - 13s 408ms/step - loss: 0.0474 - acc: 0.9832 - val_loss: 1.5549 - val_acc: 0.7484\n",
            "Epoch 49/100\n",
            "31/31 [==============================] - 13s 408ms/step - loss: 0.0524 - acc: 0.9839 - val_loss: 1.7673 - val_acc: 0.7028\n",
            "Epoch 50/100\n",
            "31/31 [==============================] - 12s 403ms/step - loss: 0.0611 - acc: 0.9806 - val_loss: 1.5553 - val_acc: 0.7137\n",
            "Epoch 51/100\n",
            "31/31 [==============================] - 14s 442ms/step - loss: 0.0471 - acc: 0.9858 - val_loss: 1.6688 - val_acc: 0.7289\n",
            "Epoch 52/100\n",
            "31/31 [==============================] - 13s 428ms/step - loss: 0.0463 - acc: 0.9845 - val_loss: 1.7620 - val_acc: 0.6898\n",
            "Epoch 53/100\n",
            "31/31 [==============================] - 14s 459ms/step - loss: 0.0445 - acc: 0.9845 - val_loss: 2.2846 - val_acc: 0.6573\n",
            "Epoch 54/100\n",
            "31/31 [==============================] - 13s 409ms/step - loss: 0.0402 - acc: 0.9864 - val_loss: 1.9458 - val_acc: 0.7028\n",
            "Epoch 55/100\n",
            "31/31 [==============================] - 12s 401ms/step - loss: 0.0418 - acc: 0.9871 - val_loss: 2.0048 - val_acc: 0.6941\n",
            "Epoch 56/100\n",
            "31/31 [==============================] - 13s 408ms/step - loss: 0.0367 - acc: 0.9877 - val_loss: 1.6950 - val_acc: 0.7260\n",
            "Epoch 57/100\n",
            "31/31 [==============================] - 14s 441ms/step - loss: 0.0379 - acc: 0.9897 - val_loss: 1.5661 - val_acc: 0.6985\n",
            "Epoch 58/100\n",
            "31/31 [==============================] - 13s 404ms/step - loss: 0.0315 - acc: 0.9916 - val_loss: 2.1034 - val_acc: 0.7158\n",
            "Epoch 59/100\n",
            "31/31 [==============================] - 14s 445ms/step - loss: 0.0459 - acc: 0.9871 - val_loss: 1.7678 - val_acc: 0.6941\n",
            "Epoch 60/100\n",
            "31/31 [==============================] - 13s 414ms/step - loss: 0.0338 - acc: 0.9877 - val_loss: 1.8998 - val_acc: 0.6985\n",
            "Epoch 61/100\n",
            "31/31 [==============================] - 13s 407ms/step - loss: 0.0263 - acc: 0.9923 - val_loss: 1.8710 - val_acc: 0.6941\n",
            "Epoch 62/100\n",
            "31/31 [==============================] - 13s 410ms/step - loss: 0.0263 - acc: 0.9916 - val_loss: 1.8389 - val_acc: 0.6833\n",
            "Epoch 63/100\n",
            "31/31 [==============================] - 13s 403ms/step - loss: 0.0313 - acc: 0.9864 - val_loss: 1.2846 - val_acc: 0.7419\n",
            "Epoch 64/100\n",
            "31/31 [==============================] - 13s 405ms/step - loss: 0.0621 - acc: 0.9845 - val_loss: 1.8447 - val_acc: 0.7093\n",
            "Epoch 65/100\n",
            "31/31 [==============================] - 14s 439ms/step - loss: 0.1293 - acc: 0.9535 - val_loss: 2.1807 - val_acc: 0.6508\n",
            "Epoch 66/100\n",
            "31/31 [==============================] - 13s 431ms/step - loss: 0.0536 - acc: 0.9839 - val_loss: 1.8445 - val_acc: 0.7072\n",
            "Epoch 67/100\n",
            "31/31 [==============================] - 12s 400ms/step - loss: 0.0552 - acc: 0.9832 - val_loss: 1.6666 - val_acc: 0.6860\n",
            "Epoch 68/100\n",
            "31/31 [==============================] - 13s 415ms/step - loss: 0.0422 - acc: 0.9864 - val_loss: 1.6626 - val_acc: 0.7072\n",
            "Epoch 69/100\n",
            "31/31 [==============================] - 13s 407ms/step - loss: 0.0468 - acc: 0.9851 - val_loss: 2.0242 - val_acc: 0.6746\n",
            "Epoch 70/100\n",
            "31/31 [==============================] - 12s 402ms/step - loss: 0.0497 - acc: 0.9845 - val_loss: 1.7422 - val_acc: 0.7072\n",
            "Epoch 71/100\n",
            "31/31 [==============================] - 13s 412ms/step - loss: 0.0441 - acc: 0.9858 - val_loss: 1.6683 - val_acc: 0.7202\n",
            "Epoch 72/100\n",
            "31/31 [==============================] - 14s 442ms/step - loss: 0.0341 - acc: 0.9864 - val_loss: 1.6586 - val_acc: 0.7397\n",
            "Epoch 73/100\n",
            "31/31 [==============================] - 13s 409ms/step - loss: 0.0382 - acc: 0.9864 - val_loss: 1.6747 - val_acc: 0.6963\n",
            "Epoch 74/100\n",
            "31/31 [==============================] - 13s 409ms/step - loss: 0.0271 - acc: 0.9903 - val_loss: 1.7860 - val_acc: 0.7093\n",
            "Epoch 75/100\n",
            "31/31 [==============================] - 13s 431ms/step - loss: 0.1257 - acc: 0.9384 - val_loss: 2.0972 - val_acc: 0.6616\n",
            "Epoch 76/100\n",
            "31/31 [==============================] - 14s 440ms/step - loss: 0.0489 - acc: 0.9819 - val_loss: 2.1463 - val_acc: 0.6985\n",
            "Epoch 77/100\n",
            "31/31 [==============================] - 12s 398ms/step - loss: 0.0342 - acc: 0.9864 - val_loss: 2.1716 - val_acc: 0.6833\n",
            "Epoch 78/100\n",
            "31/31 [==============================] - 14s 455ms/step - loss: 0.0418 - acc: 0.9871 - val_loss: 2.1034 - val_acc: 0.6740\n",
            "Epoch 79/100\n",
            "31/31 [==============================] - 13s 413ms/step - loss: 0.0488 - acc: 0.9800 - val_loss: 1.7602 - val_acc: 0.7202\n",
            "Epoch 80/100\n",
            "31/31 [==============================] - 13s 417ms/step - loss: 0.0414 - acc: 0.9871 - val_loss: 1.9372 - val_acc: 0.7007\n",
            "Epoch 81/100\n",
            "31/31 [==============================] - 13s 419ms/step - loss: 0.0375 - acc: 0.9884 - val_loss: 2.2445 - val_acc: 0.6963\n",
            "Epoch 82/100\n",
            "31/31 [==============================] - 13s 407ms/step - loss: 0.0411 - acc: 0.9884 - val_loss: 1.7479 - val_acc: 0.7115\n",
            "Epoch 83/100\n",
            "31/31 [==============================] - 13s 408ms/step - loss: 0.0384 - acc: 0.9897 - val_loss: 1.9387 - val_acc: 0.7223\n",
            "Epoch 84/100\n",
            "31/31 [==============================] - 14s 452ms/step - loss: 0.0220 - acc: 0.9935 - val_loss: 1.9948 - val_acc: 0.7137\n",
            "Epoch 85/100\n",
            "31/31 [==============================] - 13s 411ms/step - loss: 0.0398 - acc: 0.9884 - val_loss: 2.1076 - val_acc: 0.7050\n",
            "Epoch 86/100\n",
            "31/31 [==============================] - 13s 405ms/step - loss: 0.0284 - acc: 0.9890 - val_loss: 1.6918 - val_acc: 0.7158\n",
            "Epoch 87/100\n",
            "31/31 [==============================] - 12s 399ms/step - loss: 0.0213 - acc: 0.9916 - val_loss: 1.9989 - val_acc: 0.7115\n",
            "Epoch 88/100\n",
            "31/31 [==============================] - 13s 406ms/step - loss: 0.0234 - acc: 0.9929 - val_loss: 1.7016 - val_acc: 0.7180\n",
            "Epoch 89/100\n",
            "31/31 [==============================] - 13s 413ms/step - loss: 0.0185 - acc: 0.9948 - val_loss: 1.7183 - val_acc: 0.7360\n",
            "Epoch 90/100\n",
            "31/31 [==============================] - 14s 441ms/step - loss: 0.0316 - acc: 0.9923 - val_loss: 2.1281 - val_acc: 0.7115\n",
            "Epoch 91/100\n",
            "31/31 [==============================] - 13s 415ms/step - loss: 0.0194 - acc: 0.9942 - val_loss: 1.9204 - val_acc: 0.7267\n",
            "Epoch 92/100\n",
            "31/31 [==============================] - 13s 405ms/step - loss: 0.0277 - acc: 0.9877 - val_loss: 1.7614 - val_acc: 0.7137\n",
            "Epoch 93/100\n",
            "31/31 [==============================] - 13s 406ms/step - loss: 0.0263 - acc: 0.9923 - val_loss: 1.8278 - val_acc: 0.7180\n",
            "Epoch 94/100\n",
            "31/31 [==============================] - 13s 405ms/step - loss: 0.0217 - acc: 0.9910 - val_loss: 1.3504 - val_acc: 0.7527\n",
            "Epoch 95/100\n",
            "31/31 [==============================] - 13s 407ms/step - loss: 0.0271 - acc: 0.9903 - val_loss: 2.4029 - val_acc: 0.6703\n",
            "Epoch 96/100\n",
            "31/31 [==============================] - 13s 419ms/step - loss: 0.0413 - acc: 0.9877 - val_loss: 1.8540 - val_acc: 0.7093\n",
            "Epoch 97/100\n",
            "31/31 [==============================] - 14s 451ms/step - loss: 0.1140 - acc: 0.9703 - val_loss: 1.7577 - val_acc: 0.7245\n",
            "Epoch 98/100\n",
            "31/31 [==============================] - 13s 404ms/step - loss: 0.0474 - acc: 0.9845 - val_loss: 1.7191 - val_acc: 0.7137\n",
            "Epoch 99/100\n",
            "31/31 [==============================] - 14s 436ms/step - loss: 0.0240 - acc: 0.9942 - val_loss: 1.8487 - val_acc: 0.7289\n",
            "Epoch 100/100\n",
            "31/31 [==============================] - 13s 431ms/step - loss: 0.0274 - acc: 0.9929 - val_loss: 1.8716 - val_acc: 0.7220\n"
          ],
          "name": "stdout"
        }
      ]
    },
    {
      "cell_type": "code",
      "metadata": {
        "id": "tDyV0-jMmi-S",
        "colab_type": "code",
        "outputId": "486bc36a-2c42-4f2c-df4d-b77b78342a6c",
        "colab": {
          "base_uri": "https://localhost:8080/",
          "height": 545
        }
      },
      "source": [
        "  acc = history.history['acc']\n",
        "  val_acc = history.history['val_acc']\n",
        "  loss = history.history['loss']\n",
        "  val_loss = history.history['val_loss']\n",
        "   \n",
        "  epochs = range(len(acc))\n",
        "   \n",
        "  plt.plot(epochs, acc, 'b', label='Training acc')\n",
        "  plt.plot(epochs, val_acc, 'r', label='Validation acc')\n",
        "  plt.title('Training and validation accuracy')\n",
        "  plt.legend()\n",
        "   \n",
        "  plt.figure()\n",
        "   \n",
        "  plt.plot(epochs, loss, 'b', label='Training loss')\n",
        "  plt.plot(epochs, val_loss, 'r', label='Validation loss')\n",
        "  plt.title('Training and validation loss')\n",
        "  plt.legend()\n",
        "   \n",
        "  plt.show()"
      ],
      "execution_count": 0,
      "outputs": [
        {
          "output_type": "display_data",
          "data": {
            "image/png": "[encoded data removed]",
            "text/plain": [
              "<Figure size 432x288 with 1 Axes>"
            ]
          },
          "metadata": {
            "tags": []
          }
        },
        {
          "output_type": "display_data",
          "data": {
            "image/png": "[encoded data removed]",
            "text/plain": [
              "<Figure size 432x288 with 1 Axes>"
            ]
          },
          "metadata": {
            "tags": []
          }
        }
      ]
    },
    {
      "cell_type": "markdown",
      "metadata": {
        "id": "hPjsv7ruKgnN",
        "colab_type": "text"
      },
      "source": [
        "# Uso de la VGG16"
      ]
    },
    {
      "cell_type": "code",
      "metadata": {
        "id": "qDPvTuYnKf6S",
        "colab_type": "code",
        "outputId": "6cd5ab02-53a2-4d5b-c1aa-2067236a0b6f",
        "colab": {
          "base_uri": "https://localhost:8080/",
          "height": 1128
        }
      },
      "source": [
        "from keras.applications import VGG16\n",
        "\n",
        "vgg_conv = VGG16(weights='imagenet', \n",
        "                 include_top=False, \n",
        "                 input_shape=(image_size, image_size, 3))\n",
        "\n",
        "for layer in vgg_conv.layers:\n",
        "    layer.trainable = False\n",
        "\n",
        "    \n",
        "    \n",
        "for layer in vgg_conv.layers:\n",
        "    print(layer, layer.trainable)\n",
        "vgg_conv.summary()\n"
      ],
      "execution_count": 0,
      "outputs": [
        {
          "output_type": "stream",
          "text": [
            "<keras.engine.input_layer.InputLayer object at 0x7f47e18cc4a8> False\n",
            "<keras.layers.convolutional.Conv2D object at 0x7f47e18b4198> False\n",
            "<keras.layers.convolutional.Conv2D object at 0x7f47e18b4ba8> False\n",
            "<keras.layers.pooling.MaxPooling2D object at 0x7f47e1996320> False\n",
            "<keras.layers.convolutional.Conv2D object at 0x7f47e1996940> False\n",
            "<keras.layers.convolutional.Conv2D object at 0x7f47e0062198> False\n",
            "<keras.layers.pooling.MaxPooling2D object at 0x7f47e1971908> False\n",
            "<keras.layers.convolutional.Conv2D object at 0x7f47e1971978> False\n",
            "<keras.layers.convolutional.Conv2D object at 0x7f47e193b0b8> False\n",
            "<keras.layers.convolutional.Conv2D object at 0x7f47e2006ac8> False\n",
            "<keras.layers.pooling.MaxPooling2D object at 0x7f47e2048358> False\n",
            "<keras.layers.convolutional.Conv2D object at 0x7f47e2048278> False\n",
            "<keras.layers.convolutional.Conv2D object at 0x7f47e204f128> False\n",
            "<keras.layers.convolutional.Conv2D object at 0x7f47e20344e0> False\n",
            "<keras.layers.pooling.MaxPooling2D object at 0x7f47e1ff84a8> False\n",
            "<keras.layers.convolutional.Conv2D object at 0x7f47e1ff8dd8> False\n",
            "<keras.layers.convolutional.Conv2D object at 0x7f47d0043a20> False\n",
            "<keras.layers.convolutional.Conv2D object at 0x7f47e200ca20> False\n",
            "<keras.layers.pooling.MaxPooling2D object at 0x7f47e2062828> False\n",
            "_________________________________________________________________\n",
            "Layer (type)                 Output Shape              Param #   \n",
            "=================================================================\n",
            "input_4 (InputLayer)         (None, 150, 150, 3)       0         \n",
            "_________________________________________________________________\n",
            "block1_conv1 (Conv2D)        (None, 150, 150, 64)      1792      \n",
            "_________________________________________________________________\n",
            "block1_conv2 (Conv2D)        (None, 150, 150, 64)      36928     \n",
            "_________________________________________________________________\n",
            "block1_pool (MaxPooling2D)   (None, 75, 75, 64)        0         \n",
            "_________________________________________________________________\n",
            "block2_conv1 (Conv2D)        (None, 75, 75, 128)       73856     \n",
            "_________________________________________________________________\n",
            "block2_conv2 (Conv2D)        (None, 75, 75, 128)       147584    \n",
            "_________________________________________________________________\n",
            "block2_pool (MaxPooling2D)   (None, 37, 37, 128)       0         \n",
            "_________________________________________________________________\n",
            "block3_conv1 (Conv2D)        (None, 37, 37, 256)       295168    \n",
            "_________________________________________________________________\n",
            "block3_conv2 (Conv2D)        (None, 37, 37, 256)       590080    \n",
            "_________________________________________________________________\n",
            "block3_conv3 (Conv2D)        (None, 37, 37, 256)       590080    \n",
            "_________________________________________________________________\n",
            "block3_pool (MaxPooling2D)   (None, 18, 18, 256)       0         \n",
            "_________________________________________________________________\n",
            "block4_conv1 (Conv2D)        (None, 18, 18, 512)       1180160   \n",
            "_________________________________________________________________\n",
            "block4_conv2 (Conv2D)        (None, 18, 18, 512)       2359808   \n",
            "_________________________________________________________________\n",
            "block4_conv3 (Conv2D)        (None, 18, 18, 512)       2359808   \n",
            "_________________________________________________________________\n",
            "block4_pool (MaxPooling2D)   (None, 9, 9, 512)         0         \n",
            "_________________________________________________________________\n",
            "block5_conv1 (Conv2D)        (None, 9, 9, 512)         2359808   \n",
            "_________________________________________________________________\n",
            "block5_conv2 (Conv2D)        (None, 9, 9, 512)         2359808   \n",
            "_________________________________________________________________\n",
            "block5_conv3 (Conv2D)        (None, 9, 9, 512)         2359808   \n",
            "_________________________________________________________________\n",
            "block5_pool (MaxPooling2D)   (None, 4, 4, 512)         0         \n",
            "=================================================================\n",
            "Total params: 14,714,688\n",
            "Trainable params: 0\n",
            "Non-trainable params: 14,714,688\n",
            "_________________________________________________________________\n"
          ],
          "name": "stdout"
        }
      ]
    },
    {
      "cell_type": "code",
      "metadata": {
        "id": "nLmZHQOlK0RJ",
        "colab_type": "code",
        "outputId": "1d04a864-f471-498d-c46d-c0f411e85091",
        "colab": {
          "base_uri": "https://localhost:8080/",
          "height": 937
        }
      },
      "source": [
        "x = Flatten()(vgg_conv.output)\n",
        "x = Dense(128, activation='relu')(x)\n",
        "x = Dropout(0.3)(x)\n",
        "x = Dense(10, activation='softmax')(x)\n",
        "model_vgg16 = Model(inputs = vgg_conv.input, outputs = x)\n",
        " \n",
        "\n",
        "model_vgg16.summary()\n",
        "model_vgg16.compile(loss=keras.losses.categorical_crossentropy,\n",
        "              optimizer=\"adam\",\n",
        "              metrics=['accuracy'])"
      ],
      "execution_count": 0,
      "outputs": [
        {
          "output_type": "stream",
          "text": [
            "_________________________________________________________________\n",
            "Layer (type)                 Output Shape              Param #   \n",
            "=================================================================\n",
            "input_4 (InputLayer)         (None, 150, 150, 3)       0         \n",
            "_________________________________________________________________\n",
            "block1_conv1 (Conv2D)        (None, 150, 150, 64)      1792      \n",
            "_________________________________________________________________\n",
            "block1_conv2 (Conv2D)        (None, 150, 150, 64)      36928     \n",
            "_________________________________________________________________\n",
            "block1_pool (MaxPooling2D)   (None, 75, 75, 64)        0         \n",
            "_________________________________________________________________\n",
            "block2_conv1 (Conv2D)        (None, 75, 75, 128)       73856     \n",
            "_________________________________________________________________\n",
            "block2_conv2 (Conv2D)        (None, 75, 75, 128)       147584    \n",
            "_________________________________________________________________\n",
            "block2_pool (MaxPooling2D)   (None, 37, 37, 128)       0         \n",
            "_________________________________________________________________\n",
            "block3_conv1 (Conv2D)        (None, 37, 37, 256)       295168    \n",
            "_________________________________________________________________\n",
            "block3_conv2 (Conv2D)        (None, 37, 37, 256)       590080    \n",
            "_________________________________________________________________\n",
            "block3_conv3 (Conv2D)        (None, 37, 37, 256)       590080    \n",
            "_________________________________________________________________\n",
            "block3_pool (MaxPooling2D)   (None, 18, 18, 256)       0         \n",
            "_________________________________________________________________\n",
            "block4_conv1 (Conv2D)        (None, 18, 18, 512)       1180160   \n",
            "_________________________________________________________________\n",
            "block4_conv2 (Conv2D)        (None, 18, 18, 512)       2359808   \n",
            "_________________________________________________________________\n",
            "block4_conv3 (Conv2D)        (None, 18, 18, 512)       2359808   \n",
            "_________________________________________________________________\n",
            "block4_pool (MaxPooling2D)   (None, 9, 9, 512)         0         \n",
            "_________________________________________________________________\n",
            "block5_conv1 (Conv2D)        (None, 9, 9, 512)         2359808   \n",
            "_________________________________________________________________\n",
            "block5_conv2 (Conv2D)        (None, 9, 9, 512)         2359808   \n",
            "_________________________________________________________________\n",
            "block5_conv3 (Conv2D)        (None, 9, 9, 512)         2359808   \n",
            "_________________________________________________________________\n",
            "block5_pool (MaxPooling2D)   (None, 4, 4, 512)         0         \n",
            "_________________________________________________________________\n",
            "flatten_15 (Flatten)         (None, 8192)              0         \n",
            "_________________________________________________________________\n",
            "dense_29 (Dense)             (None, 128)               1048704   \n",
            "_________________________________________________________________\n",
            "dropout_19 (Dropout)         (None, 128)               0         \n",
            "_________________________________________________________________\n",
            "dense_30 (Dense)             (None, 10)                1290      \n",
            "=================================================================\n",
            "Total params: 15,764,682\n",
            "Trainable params: 1,049,994\n",
            "Non-trainable params: 14,714,688\n",
            "_________________________________________________________________\n"
          ],
          "name": "stdout"
        }
      ]
    },
    {
      "cell_type": "code",
      "metadata": {
        "id": "-FjlTrjdLYLf",
        "colab_type": "code",
        "outputId": "6a23e113-6e7f-4905-d585-a9aefeea6cef",
        "colab": {
          "base_uri": "https://localhost:8080/",
          "height": 3490
        }
      },
      "source": [
        "# TRAINING --------------------------------------------------\n",
        "\n",
        "epochs = 100\n",
        "\n",
        "history = model_vgg16.fit_generator(\n",
        "        train_generator,\n",
        "        steps_per_epoch=train_generator.samples // batch_size,\n",
        "        epochs=epochs, \n",
        "        validation_data=validation_generator,\n",
        "        validation_steps=validation_generator.samples // batch_size,\n",
        ")"
      ],
      "execution_count": 0,
      "outputs": [
        {
          "output_type": "stream",
          "text": [
            "Epoch 1/100\n",
            "31/31 [==============================] - 17s 559ms/step - loss: 1.5343 - acc: 0.5240 - val_loss: 1.0307 - val_acc: 0.6551\n",
            "Epoch 2/100\n",
            "31/31 [==============================] - 13s 405ms/step - loss: 0.6347 - acc: 0.8030 - val_loss: 0.6386 - val_acc: 0.8000\n",
            "Epoch 3/100\n",
            "31/31 [==============================] - 14s 467ms/step - loss: 0.4731 - acc: 0.8566 - val_loss: 0.5469 - val_acc: 0.8221\n",
            "Epoch 4/100\n",
            "31/31 [==============================] - 13s 429ms/step - loss: 0.4032 - acc: 0.8818 - val_loss: 0.5205 - val_acc: 0.8265\n",
            "Epoch 5/100\n",
            "31/31 [==============================] - 13s 428ms/step - loss: 0.2751 - acc: 0.9270 - val_loss: 0.4475 - val_acc: 0.8438\n",
            "Epoch 6/100\n",
            "31/31 [==============================] - 14s 446ms/step - loss: 0.2387 - acc: 0.9309 - val_loss: 0.4730 - val_acc: 0.8265\n",
            "Epoch 7/100\n",
            "31/31 [==============================] - 13s 427ms/step - loss: 0.2965 - acc: 0.9102 - val_loss: 0.4105 - val_acc: 0.8547\n",
            "Epoch 8/100\n",
            "31/31 [==============================] - 13s 430ms/step - loss: 0.2023 - acc: 0.9425 - val_loss: 0.3674 - val_acc: 0.8698\n",
            "Epoch 9/100\n",
            "31/31 [==============================] - 14s 456ms/step - loss: 0.1639 - acc: 0.9509 - val_loss: 0.3718 - val_acc: 0.8872\n",
            "Epoch 10/100\n",
            "31/31 [==============================] - 15s 471ms/step - loss: 0.1445 - acc: 0.9600 - val_loss: 0.3095 - val_acc: 0.9002\n",
            "Epoch 11/100\n",
            "31/31 [==============================] - 13s 429ms/step - loss: 0.1560 - acc: 0.9593 - val_loss: 0.3181 - val_acc: 0.8959\n",
            "Epoch 12/100\n",
            "31/31 [==============================] - 13s 425ms/step - loss: 0.2660 - acc: 0.8874 - val_loss: 0.4463 - val_acc: 0.8395\n",
            "Epoch 13/100\n",
            "31/31 [==============================] - 13s 415ms/step - loss: 0.1538 - acc: 0.9625 - val_loss: 0.3596 - val_acc: 0.8700\n",
            "Epoch 14/100\n",
            "31/31 [==============================] - 14s 445ms/step - loss: 0.1274 - acc: 0.9651 - val_loss: 0.3422 - val_acc: 0.8872\n",
            "Epoch 15/100\n",
            "31/31 [==============================] - 14s 445ms/step - loss: 0.1065 - acc: 0.9729 - val_loss: 0.2833 - val_acc: 0.8894\n",
            "Epoch 16/100\n",
            "31/31 [==============================] - 13s 416ms/step - loss: 0.1052 - acc: 0.9735 - val_loss: 0.3195 - val_acc: 0.8937\n",
            "Epoch 17/100\n",
            "31/31 [==============================] - 13s 422ms/step - loss: 0.1026 - acc: 0.9780 - val_loss: 0.2249 - val_acc: 0.9219\n",
            "Epoch 18/100\n",
            "31/31 [==============================] - 13s 420ms/step - loss: 0.0941 - acc: 0.9748 - val_loss: 0.3266 - val_acc: 0.8655\n",
            "Epoch 19/100\n",
            "31/31 [==============================] - 13s 417ms/step - loss: 0.0812 - acc: 0.9813 - val_loss: 0.3157 - val_acc: 0.9067\n",
            "Epoch 20/100\n",
            "31/31 [==============================] - 14s 440ms/step - loss: 0.3167 - acc: 0.9206 - val_loss: 0.6486 - val_acc: 0.7679\n",
            "Epoch 21/100\n",
            "31/31 [==============================] - 14s 447ms/step - loss: 0.3338 - acc: 0.8850 - val_loss: 0.4161 - val_acc: 0.8482\n",
            "Epoch 22/100\n",
            "31/31 [==============================] - 13s 420ms/step - loss: 0.1882 - acc: 0.9419 - val_loss: 0.3468 - val_acc: 0.8698\n",
            "Epoch 23/100\n",
            "31/31 [==============================] - 13s 424ms/step - loss: 0.1245 - acc: 0.9638 - val_loss: 0.2773 - val_acc: 0.8959\n",
            "Epoch 24/100\n",
            "31/31 [==============================] - 13s 420ms/step - loss: 0.2024 - acc: 0.9138 - val_loss: 0.5987 - val_acc: 0.7880\n",
            "Epoch 25/100\n",
            "31/31 [==============================] - 13s 422ms/step - loss: 0.2107 - acc: 0.9361 - val_loss: 0.3001 - val_acc: 0.8959\n",
            "Epoch 26/100\n",
            "31/31 [==============================] - 13s 430ms/step - loss: 0.1240 - acc: 0.9638 - val_loss: 0.3126 - val_acc: 0.8959\n",
            "Epoch 27/100\n",
            "31/31 [==============================] - 14s 461ms/step - loss: 0.1166 - acc: 0.9664 - val_loss: 0.2967 - val_acc: 0.8872\n",
            "Epoch 28/100\n",
            "31/31 [==============================] - 13s 420ms/step - loss: 0.1190 - acc: 0.9696 - val_loss: 0.3129 - val_acc: 0.8915\n",
            "Epoch 29/100\n",
            "31/31 [==============================] - 14s 447ms/step - loss: 0.0871 - acc: 0.9819 - val_loss: 0.2920 - val_acc: 0.8980\n",
            "Epoch 30/100\n",
            "31/31 [==============================] - 13s 430ms/step - loss: 0.0922 - acc: 0.9787 - val_loss: 0.3310 - val_acc: 0.8959\n",
            "Epoch 31/100\n",
            "31/31 [==============================] - 13s 418ms/step - loss: 0.0779 - acc: 0.9768 - val_loss: 0.3123 - val_acc: 0.8937\n",
            "Epoch 32/100\n",
            "31/31 [==============================] - 13s 429ms/step - loss: 0.0848 - acc: 0.9774 - val_loss: 0.3735 - val_acc: 0.8785\n",
            "Epoch 33/100\n",
            "31/31 [==============================] - 15s 493ms/step - loss: 0.1000 - acc: 0.9735 - val_loss: 0.3705 - val_acc: 0.8937\n",
            "Epoch 34/100\n",
            "31/31 [==============================] - 14s 447ms/step - loss: 0.0735 - acc: 0.9793 - val_loss: 0.3423 - val_acc: 0.8850\n",
            "Epoch 35/100\n",
            "31/31 [==============================] - 13s 426ms/step - loss: 0.0557 - acc: 0.9884 - val_loss: 0.2785 - val_acc: 0.9080\n",
            "Epoch 36/100\n",
            "31/31 [==============================] - 13s 426ms/step - loss: 0.0685 - acc: 0.9839 - val_loss: 0.2902 - val_acc: 0.9067\n",
            "Epoch 37/100\n",
            "31/31 [==============================] - 13s 413ms/step - loss: 0.0571 - acc: 0.9839 - val_loss: 0.3007 - val_acc: 0.9067\n",
            "Epoch 38/100\n",
            "31/31 [==============================] - 14s 447ms/step - loss: 0.0523 - acc: 0.9890 - val_loss: 0.2779 - val_acc: 0.8959\n",
            "Epoch 39/100\n",
            "31/31 [==============================] - 14s 445ms/step - loss: 0.0540 - acc: 0.9871 - val_loss: 0.2488 - val_acc: 0.9241\n",
            "Epoch 40/100\n",
            "31/31 [==============================] - 13s 422ms/step - loss: 0.0650 - acc: 0.9851 - val_loss: 0.3246 - val_acc: 0.8959\n",
            "Epoch 41/100\n",
            "31/31 [==============================] - 13s 422ms/step - loss: 0.0364 - acc: 0.9935 - val_loss: 0.3317 - val_acc: 0.8937\n",
            "Epoch 42/100\n",
            "31/31 [==============================] - 13s 426ms/step - loss: 0.0391 - acc: 0.9929 - val_loss: 0.2540 - val_acc: 0.9067\n",
            "Epoch 43/100\n",
            "31/31 [==============================] - 13s 415ms/step - loss: 0.0500 - acc: 0.9884 - val_loss: 0.2814 - val_acc: 0.8959\n",
            "Epoch 44/100\n",
            "31/31 [==============================] - 14s 438ms/step - loss: 0.0525 - acc: 0.9864 - val_loss: 0.2769 - val_acc: 0.9024\n",
            "Epoch 45/100\n",
            "31/31 [==============================] - 14s 455ms/step - loss: 0.1243 - acc: 0.9613 - val_loss: 0.4282 - val_acc: 0.8720\n",
            "Epoch 46/100\n",
            "31/31 [==============================] - 13s 429ms/step - loss: 0.1088 - acc: 0.9703 - val_loss: 0.2268 - val_acc: 0.9340\n",
            "Epoch 47/100\n",
            "31/31 [==============================] - 13s 418ms/step - loss: 0.0835 - acc: 0.9761 - val_loss: 0.3169 - val_acc: 0.8959\n",
            "Epoch 48/100\n",
            "31/31 [==============================] - 13s 426ms/step - loss: 0.0600 - acc: 0.9819 - val_loss: 0.2449 - val_acc: 0.9176\n",
            "Epoch 49/100\n",
            "31/31 [==============================] - 13s 430ms/step - loss: 0.0667 - acc: 0.9800 - val_loss: 0.3014 - val_acc: 0.9024\n",
            "Epoch 50/100\n",
            "31/31 [==============================] - 13s 428ms/step - loss: 0.0549 - acc: 0.9858 - val_loss: 0.4016 - val_acc: 0.8872\n",
            "Epoch 51/100\n",
            "31/31 [==============================] - 14s 465ms/step - loss: 0.0570 - acc: 0.9832 - val_loss: 0.3567 - val_acc: 0.8937\n",
            "Epoch 52/100\n",
            "31/31 [==============================] - 14s 436ms/step - loss: 0.0467 - acc: 0.9884 - val_loss: 0.3878 - val_acc: 0.8807\n",
            "Epoch 53/100\n",
            "31/31 [==============================] - 13s 426ms/step - loss: 0.0359 - acc: 0.9916 - val_loss: 0.3353 - val_acc: 0.8850\n",
            "Epoch 54/100\n",
            "31/31 [==============================] - 13s 419ms/step - loss: 0.0515 - acc: 0.9890 - val_loss: 0.3516 - val_acc: 0.9024\n",
            "Epoch 55/100\n",
            "31/31 [==============================] - 13s 420ms/step - loss: 0.0459 - acc: 0.9884 - val_loss: 0.2881 - val_acc: 0.9067\n",
            "Epoch 56/100\n",
            "31/31 [==============================] - 14s 442ms/step - loss: 0.0483 - acc: 0.9839 - val_loss: 0.2736 - val_acc: 0.9024\n",
            "Epoch 57/100\n",
            "31/31 [==============================] - 14s 464ms/step - loss: 0.0489 - acc: 0.9851 - val_loss: 0.2614 - val_acc: 0.9200\n",
            "Epoch 58/100\n",
            "31/31 [==============================] - 13s 421ms/step - loss: 0.0399 - acc: 0.9916 - val_loss: 0.2751 - val_acc: 0.9241\n",
            "Epoch 59/100\n",
            "31/31 [==============================] - 13s 416ms/step - loss: 0.0385 - acc: 0.9890 - val_loss: 0.2858 - val_acc: 0.9046\n",
            "Epoch 60/100\n",
            "31/31 [==============================] - 13s 419ms/step - loss: 0.0286 - acc: 0.9929 - val_loss: 0.4067 - val_acc: 0.8829\n",
            "Epoch 61/100\n",
            "31/31 [==============================] - 13s 420ms/step - loss: 0.0421 - acc: 0.9923 - val_loss: 0.3165 - val_acc: 0.9002\n",
            "Epoch 62/100\n",
            "31/31 [==============================] - 14s 445ms/step - loss: 0.0500 - acc: 0.9865 - val_loss: 0.2727 - val_acc: 0.9176\n",
            "Epoch 63/100\n",
            "31/31 [==============================] - 14s 452ms/step - loss: 0.0370 - acc: 0.9923 - val_loss: 0.2779 - val_acc: 0.9111\n",
            "Epoch 64/100\n",
            "31/31 [==============================] - 13s 420ms/step - loss: 0.0378 - acc: 0.9858 - val_loss: 0.2515 - val_acc: 0.9132\n",
            "Epoch 65/100\n",
            "31/31 [==============================] - 13s 420ms/step - loss: 0.0316 - acc: 0.9903 - val_loss: 0.2435 - val_acc: 0.9089\n",
            "Epoch 66/100\n",
            "31/31 [==============================] - 13s 420ms/step - loss: 0.0335 - acc: 0.9935 - val_loss: 0.2720 - val_acc: 0.9241\n",
            "Epoch 67/100\n",
            "31/31 [==============================] - 13s 420ms/step - loss: 0.0852 - acc: 0.9742 - val_loss: 0.2877 - val_acc: 0.8980\n",
            "Epoch 68/100\n",
            "31/31 [==============================] - 13s 429ms/step - loss: 0.0459 - acc: 0.9871 - val_loss: 0.2591 - val_acc: 0.9060\n",
            "Epoch 69/100\n",
            "31/31 [==============================] - 14s 462ms/step - loss: 0.0333 - acc: 0.9916 - val_loss: 0.3599 - val_acc: 0.9046\n",
            "Epoch 70/100\n",
            "31/31 [==============================] - 13s 413ms/step - loss: 0.0484 - acc: 0.9871 - val_loss: 0.2449 - val_acc: 0.9132\n",
            "Epoch 71/100\n",
            "31/31 [==============================] - 13s 424ms/step - loss: 0.0433 - acc: 0.9884 - val_loss: 0.2973 - val_acc: 0.9176\n",
            "Epoch 72/100\n",
            "31/31 [==============================] - 13s 419ms/step - loss: 0.0329 - acc: 0.9935 - val_loss: 0.3116 - val_acc: 0.9024\n",
            "Epoch 73/100\n",
            "31/31 [==============================] - 13s 428ms/step - loss: 0.0378 - acc: 0.9890 - val_loss: 0.2816 - val_acc: 0.9176\n",
            "Epoch 74/100\n",
            "31/31 [==============================] - 13s 435ms/step - loss: 0.0406 - acc: 0.9877 - val_loss: 0.4024 - val_acc: 0.8742\n",
            "Epoch 75/100\n",
            "31/31 [==============================] - 14s 456ms/step - loss: 0.0351 - acc: 0.9897 - val_loss: 0.2523 - val_acc: 0.9197\n",
            "Epoch 76/100\n",
            "31/31 [==============================] - 13s 424ms/step - loss: 0.0377 - acc: 0.9910 - val_loss: 0.3318 - val_acc: 0.8980\n",
            "Epoch 77/100\n",
            "31/31 [==============================] - 13s 413ms/step - loss: 0.0355 - acc: 0.9871 - val_loss: 0.3910 - val_acc: 0.8850\n",
            "Epoch 78/100\n",
            "31/31 [==============================] - 13s 423ms/step - loss: 0.0334 - acc: 0.9923 - val_loss: 0.3423 - val_acc: 0.9002\n",
            "Epoch 79/100\n",
            "31/31 [==============================] - 13s 419ms/step - loss: 0.0481 - acc: 0.9864 - val_loss: 0.3911 - val_acc: 0.8820\n",
            "Epoch 80/100\n",
            "31/31 [==============================] - 15s 499ms/step - loss: 0.0384 - acc: 0.9890 - val_loss: 0.3956 - val_acc: 0.8959\n",
            "Epoch 81/100\n",
            "31/31 [==============================] - 14s 453ms/step - loss: 0.0333 - acc: 0.9890 - val_loss: 0.2724 - val_acc: 0.9197\n",
            "Epoch 82/100\n",
            "31/31 [==============================] - 13s 412ms/step - loss: 0.0389 - acc: 0.9916 - val_loss: 0.3304 - val_acc: 0.8915\n",
            "Epoch 83/100\n",
            "31/31 [==============================] - 13s 424ms/step - loss: 0.0308 - acc: 0.9935 - val_loss: 0.2383 - val_acc: 0.9241\n",
            "Epoch 84/100\n",
            "31/31 [==============================] - 13s 413ms/step - loss: 0.0355 - acc: 0.9897 - val_loss: 0.3639 - val_acc: 0.8894\n",
            "Epoch 85/100\n",
            "31/31 [==============================] - 13s 421ms/step - loss: 0.0346 - acc: 0.9871 - val_loss: 0.2901 - val_acc: 0.9002\n",
            "Epoch 86/100\n",
            "31/31 [==============================] - 13s 429ms/step - loss: 0.0385 - acc: 0.9871 - val_loss: 0.3481 - val_acc: 0.8980\n",
            "Epoch 87/100\n",
            "31/31 [==============================] - 14s 457ms/step - loss: 0.0338 - acc: 0.9929 - val_loss: 0.3229 - val_acc: 0.9089\n",
            "Epoch 88/100\n",
            "31/31 [==============================] - 13s 416ms/step - loss: 0.0330 - acc: 0.9923 - val_loss: 0.2763 - val_acc: 0.9067\n",
            "Epoch 89/100\n",
            "31/31 [==============================] - 13s 420ms/step - loss: 0.0399 - acc: 0.9877 - val_loss: 0.3294 - val_acc: 0.9046\n",
            "Epoch 90/100\n",
            "31/31 [==============================] - 13s 424ms/step - loss: 0.0308 - acc: 0.9916 - val_loss: 0.2984 - val_acc: 0.9080\n",
            "Epoch 91/100\n",
            "31/31 [==============================] - 13s 424ms/step - loss: 0.0293 - acc: 0.9923 - val_loss: 0.3846 - val_acc: 0.8850\n",
            "Epoch 92/100\n",
            "31/31 [==============================] - 13s 425ms/step - loss: 0.0332 - acc: 0.9877 - val_loss: 0.4181 - val_acc: 0.8850\n",
            "Epoch 93/100\n",
            "31/31 [==============================] - 14s 461ms/step - loss: 0.0296 - acc: 0.9929 - val_loss: 0.3951 - val_acc: 0.8937\n",
            "Epoch 94/100\n",
            "31/31 [==============================] - 13s 432ms/step - loss: 0.0331 - acc: 0.9865 - val_loss: 0.3211 - val_acc: 0.9132\n",
            "Epoch 95/100\n",
            "31/31 [==============================] - 13s 419ms/step - loss: 0.0386 - acc: 0.9877 - val_loss: 0.2896 - val_acc: 0.9132\n",
            "Epoch 96/100\n",
            "31/31 [==============================] - 13s 420ms/step - loss: 0.0308 - acc: 0.9910 - val_loss: 0.3537 - val_acc: 0.8915\n",
            "Epoch 97/100\n",
            "31/31 [==============================] - 14s 449ms/step - loss: 0.0241 - acc: 0.9942 - val_loss: 0.4381 - val_acc: 0.9024\n",
            "Epoch 98/100\n",
            "31/31 [==============================] - 13s 426ms/step - loss: 0.0373 - acc: 0.9864 - val_loss: 0.3024 - val_acc: 0.9067\n",
            "Epoch 99/100\n",
            "31/31 [==============================] - 14s 456ms/step - loss: 0.0299 - acc: 0.9903 - val_loss: 0.3275 - val_acc: 0.9089\n",
            "Epoch 100/100\n",
            "31/31 [==============================] - 13s 424ms/step - loss: 0.0330 - acc: 0.9884 - val_loss: 0.3448 - val_acc: 0.9002\n"
          ],
          "name": "stdout"
        }
      ]
    },
    {
      "cell_type": "code",
      "metadata": {
        "id": "XNPP8bNULosX",
        "colab_type": "code",
        "outputId": "533230f9-e5d0-4fb4-dad1-df37f109562d",
        "colab": {
          "base_uri": "https://localhost:8080/",
          "height": 545
        }
      },
      "source": [
        "  acc = history.history['acc']\n",
        "  val_acc = history.history['val_acc']\n",
        "  loss = history.history['loss']\n",
        "  val_loss = history.history['val_loss']\n",
        "   \n",
        "  epochs = range(len(acc))\n",
        "   \n",
        "  plt.plot(epochs, acc, 'b', label='Training acc')\n",
        "  plt.plot(epochs, val_acc, 'r', label='Validation acc')\n",
        "  plt.title('Training and validation accuracy')\n",
        "  plt.legend()\n",
        "   \n",
        "  plt.figure()\n",
        "   \n",
        "  plt.plot(epochs, loss, 'b', label='Training loss')\n",
        "  plt.plot(epochs, val_loss, 'r', label='Validation loss')\n",
        "  plt.title('Training and validation loss')\n",
        "  plt.legend()\n",
        "   \n",
        "  plt.show()"
      ],
      "execution_count": 0,
      "outputs": [
        {
          "output_type": "display_data",
          "data": {
            "image/png": "[encoded data removed]",
            "text/plain": [
              "<Figure size 432x288 with 1 Axes>"
            ]
          },
          "metadata": {
            "tags": []
          }
        },
        {
          "output_type": "display_data",
          "data": {
            "image/png": "[encoded data removed]",
            "text/plain": [
              "<Figure size 432x288 with 1 Axes>"
            ]
          },
          "metadata": {
            "tags": []
          }
        }
      ]
    }
  ]
}